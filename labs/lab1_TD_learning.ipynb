{
 "cells": [
  {
   "cell_type": "markdown",
   "metadata": {},
   "source": [
    "# Lab 1: Problem 2 (TD-learning with policy improvement)"
   ]
  },
  {
   "cell_type": "markdown",
   "metadata": {},
   "source": [
    "*OpenAI gym FrozenLake environment*\n",
    "\n",
    "Winter is here. You and your friends were tossing around a frisbee at the park\n",
    "    when you made a wild throw that left the frisbee out in the middle of the lake.\n",
    "    The water is mostly frozen, but there are a few holes where the ice has melted.\n",
    "    If you step into one of those holes, you'll fall into the freezing water.\n",
    "    At this time, there's an international frisbee shortage, so it's absolutely imperative that\n",
    "    you navigate across the lake and retrieve the disc.\n",
    "    However, the ice is slippery, so you won't always move in the direction you intend.\n",
    "    The surface is described using a grid like the following\n",
    "\n",
    "        SFFF\n",
    "        FHFH\n",
    "        FFFH\n",
    "        HFFG\n",
    "\n",
    "    S : starting point, safe\n",
    "    F : frozen surface, safe\n",
    "    H : hole, fall to your doom\n",
    "    G : goal, where the frisbee is located\n",
    "\n",
    "    The episode ends when you reach the goal or fall in a hole.\n",
    "    You receive a reward of 1 if you reach the goal, and zero otherwise.\n",
    "    \n",
    "    FrozenLake-v0 defines \"solving\" as getting average reward of 0.78 over 100 consecutive trials.\n"
   ]
  },
  {
   "cell_type": "code",
   "execution_count": 49,
   "metadata": {},
   "outputs": [
    {
     "name": "stderr",
     "output_type": "stream",
     "text": [
      "\u001b[34m\u001b[1mwandb\u001b[0m: wandb version 0.10.20 is available!  To upgrade, please run:\n",
      "\u001b[34m\u001b[1mwandb\u001b[0m:  $ pip install wandb --upgrade\n"
     ]
    },
    {
     "data": {
      "text/html": [
       "\n",
       "                Tracking run with wandb version 0.10.18<br/>\n",
       "                Syncing run <strong style=\"color:#cdcd00\">fiery-sound-3468</strong> to <a href=\"https://wandb.ai\" target=\"_blank\">Weights & Biases</a> <a href=\"https://docs.wandb.com/integrations/jupyter.html\" target=\"_blank\">(Documentation)</a>.<br/>\n",
       "                Project page: <a href=\"https://wandb.ai/ieor-4575/lab1\" target=\"_blank\">https://wandb.ai/ieor-4575/lab1</a><br/>\n",
       "                Run page: <a href=\"https://wandb.ai/ieor-4575/lab1/runs/1obqvrto\" target=\"_blank\">https://wandb.ai/ieor-4575/lab1/runs/1obqvrto</a><br/>\n",
       "                Run data is saved locally in <code>/Users/chenchenwei/Documents/IEOR4575_Labs/labs/lab1/wandb/run-20210225_203433-1obqvrto</code><br/><br/>\n",
       "            "
      ],
      "text/plain": [
       "<IPython.core.display.HTML object>"
      ]
     },
     "metadata": {},
     "output_type": "display_data"
    }
   ],
   "source": [
    "#wandb set up for logging runs online and moving them to the leaderboard\n",
    "import wandb\n",
    "wandb.login()\n",
    "run=wandb.init(project=\"lab1\", tags=[\"problem2\"], entity=\"ieor-4575\")\n"
   ]
  },
  {
   "cell_type": "code",
   "execution_count": 50,
   "metadata": {},
   "outputs": [
    {
     "data": {
      "text/plain": [
       "[0]"
      ]
     },
     "execution_count": 50,
     "metadata": {},
     "output_type": "execute_result"
    }
   ],
   "source": [
    "## DO NOT CHANGE THIS CELL\n",
    "import numpy as np\n",
    "import gym\n",
    "env=gym.make('FrozenLake-v0')\n",
    "env.seed(0)"
   ]
  },
  {
   "cell_type": "markdown",
   "metadata": {},
   "source": [
    "For proper accounting rewards while you learn, we build a wrapper around env.step() and env.reset(). In an episode, every time you take an action the reward will be appended to the reward of the episode, and when ever the environment is reset (at the end of an epsiode), the episode reward is reset to 0. "
   ]
  },
  {
   "cell_type": "code",
   "execution_count": 51,
   "metadata": {},
   "outputs": [],
   "source": [
    "## DO NOT CHANGE THIS CELL\n",
    "#wrapper for accounting rewards\n",
    "rEpisode=0\n",
    "rList=[]\n",
    "fixedWindow=100\n",
    "movingAverage=0\n",
    "\n",
    "def reset_decorate(func):\n",
    "    def func_wrapper():\n",
    "        global rList\n",
    "        global movingAverage\n",
    "        global rEpisode\n",
    "        global fixedwindow\n",
    "        rList.append(rEpisode)\n",
    "        if len(rList) >= fixedWindow:\n",
    "            movingAverage=np.mean(rList[len(rList)-fixedWindow:len(rList)-1])\n",
    "        rEpisode=0\n",
    "        return(func())\n",
    "    return func_wrapper\n",
    "\n",
    "env.reset = reset_decorate(env.reset)\n",
    "\n",
    "def step_decorate(func):\n",
    "    def func_wrapper(action):\n",
    "        global rEpisode\n",
    "        s1, r, d, other = func(action)\n",
    "        rEpisode+=r\n",
    "        return(s1, r, d, other)\n",
    "    return func_wrapper\n",
    "\n",
    "env.step = step_decorate(env.step)\n",
    "\n",
    "def init():\n",
    "    rEpisode=0\n",
    "    rList=[]\n",
    "    movingAverage=0\n",
    "    return"
   ]
  },
  {
   "cell_type": "markdown",
   "metadata": {},
   "source": [
    "Below we illustrate the execution of the Open AI gym enviornment using the policy of chosing random action in every state. Every time an action is taken the enviorment returns a tuple containing next state, reward, and the status (whether terminal state is reached or not). "
   ]
  },
  {
   "cell_type": "code",
   "execution_count": 52,
   "metadata": {},
   "outputs": [],
   "source": [
    "### RANDOM SAMPLING EXAMPLE\n",
    "num_episodes=1000; #number of episodes you want to try\n",
    "episode_max_length=100; #you can explicitly end the epsiode before terminal state is reached\n",
    "\n",
    "env.reset()\n",
    "#env.render()\n",
    "#execute in episodes\n",
    "for i in range(num_episodes):\n",
    "    \n",
    "    #reset the environment at the beginning of an episode\n",
    "    s = env.reset()\n",
    "    d = False #not done\n",
    "    \n",
    "    for t in range(episode_max_length):\n",
    "        \n",
    "        ################ Random action policy ###########################\n",
    "        #play random action \n",
    "        a = env.action_space.sample()\n",
    "        #get new state, reward, done\n",
    "        s, r, d, _ = env.step(a)\n",
    "        #################################################################\n",
    "        \n",
    "        \n",
    "        #break if done, reached terminal state \n",
    "        if d == True:\n",
    "            break\n",
    "    \n",
    "    \n",
    "    #log per-episode reward and moving average over 100 episodes\n",
    "    wandb.log({ \"random reward\" : rEpisode, \"random reward moving average\" : movingAverage, \"random episode\" : i})"
   ]
  },
  {
   "cell_type": "markdown",
   "metadata": {},
   "source": [
    "Implement tabular TD-learning with policy improvement (*YOU SHOULD ONLY CHANGE THE CELL BELOW*)"
   ]
  },
  {
   "cell_type": "code",
   "execution_count": 53,
   "metadata": {},
   "outputs": [
    {
     "name": "stdout",
     "output_type": "stream",
     "text": [
      " --------- Avg reward per 1000 episodes --------- \n",
      "\n",
      "Iter  1000 :  0.34100000000000025\n",
      "Iter  2000 :  0.6730000000000005\n",
      "Iter  3000 :  0.7020000000000005\n",
      "Iter  4000 :  0.6840000000000005\n",
      "Iter  5000 :  0.6900000000000005\n",
      "Iter  6000 :  0.6980000000000005\n",
      "Iter  7000 :  0.7000000000000005\n",
      "Iter  8000 :  0.7230000000000005\n",
      "Iter  9000 :  0.7200000000000005\n",
      "Iter  10000 :  0.7050000000000005\n",
      "Iter  11000 :  0.6700000000000005\n",
      "Iter  12000 :  0.7180000000000005\n",
      "Iter  13000 :  0.6860000000000005\n",
      "Iter  14000 :  0.7060000000000005\n",
      "Iter  15000 :  0.6810000000000005\n",
      "Iter  16000 :  0.7050000000000005\n",
      "Iter  17000 :  0.7170000000000005\n",
      "Iter  18000 :  0.7340000000000005\n",
      "Iter  19000 :  0.6820000000000005\n",
      "Iter  20000 :  0.7070000000000005\n"
     ]
    }
   ],
   "source": [
    "#initialize episodic structure\n",
    "init()\n",
    "import random\n",
    "np.random.seed(256) # random stay same for tunning param \n",
    "\n",
    "#initialize episodic structure\n",
    "num_episodes=20000;\n",
    "episode_max_length=100;\n",
    "\n",
    "#initialize discount factor, learning rate\n",
    "gamma=0.95\n",
    "learnRate=0.7\n",
    "# 0.95 & 0.85 --> score 0.78 \n",
    "# 0.99 & 0.65 -- 0.78 \n",
    "# 0.95 & 0.8 -- 0.80808\n",
    "# 0.95 & 0.7 -- 0.81818\n",
    "# 0.95 & 0.65 -- 0.74\n",
    "# 0.95 & 0.6 -- 0.55\n",
    "# 0.9 & 0.7 -- 0.74\n",
    "\n",
    "#create Q table\n",
    "Q=np.zeros([env.observation_space.n, env.action_space.n]) #matrix Q[s,a]\n",
    "#create policy \n",
    "pi=np.random.randint(low=env.action_space.n, size=env.observation_space.n) #array pi[s]\n",
    "rewards_history = [] \n",
    "\n",
    "exp_rate = 1.0\n",
    "min_exp_rate = 0.001 \n",
    "max_exp_rate = 1.0\n",
    "exp_decay_rate = 0.005\n",
    "\n",
    "#execute in episodes\n",
    "for i in range(num_episodes):\n",
    "    \n",
    "    #reset the environment at the beginning of an episode\n",
    "    s = env.reset()\n",
    "    d = False #not done\n",
    "    total_rewards = 0 \n",
    "    \n",
    " \n",
    "    for t in range(episode_max_length):\n",
    "        \n",
    "        ###########SELCT ACTION a for state  using current policy ##################\n",
    "        #example\n",
    "        #a = int(pi[s])\n",
    "        #a = env.action_space.sample()\n",
    "\n",
    "        a = int(pi[s])\n",
    "        #get new state, reward, done\n",
    "        s1, r, d, _ = env.step(a)\n",
    "     \n",
    "        next_action = int(pi[s1])\n",
    "            \n",
    "        ##### update Q(s,a) ############\n",
    "        delta_t = r + gamma * Q[s1][next_action] - Q[s][a]\n",
    "        Q[s][a] = Q[s][a] + learnRate * delta_t\n",
    "                \n",
    "        total_rewards += r \n",
    "        #break if done, reached terminal state \n",
    "        if d == True:\n",
    "            break\n",
    "\n",
    "        s=s1\n",
    "        a=next_action \n",
    "        \n",
    "    rewards_history.append(total_rewards)\n",
    "    \n",
    "    exp_rate = min_exp_rate + \\\n",
    "    (max_exp_rate - min_exp_rate) * np.exp(-exp_decay_rate*(i+1.))\n",
    "    \n",
    "    #### improve policy pi\n",
    "    for s in range(env.observation_space.n):\n",
    "        random_num = random.uniform(0, 1) \n",
    "        if random_num <= exp_rate:\n",
    "            pi[s] = env.action_space.sample()\n",
    "        else:\n",
    "            pi[s] = np.argmax(Q[s,:]) \n",
    "    \n",
    "    #log per-episode reward and moving average over 100 episodes\n",
    "    wandb.log({ \"training reward\" : rEpisode, \"training reward moving average\" : movingAverage, \"training episode\" : i})\n",
    "wandb.run.summary[\"number of training episodes\"]=num_episodes\n",
    "\n",
    "rewards_per_thousand_episodes = np.split(np.array(rewards_history),num_episodes/1000) \n",
    "count = 1000 \n",
    "print(\" --------- Avg reward per 1000 episodes --------- \\n\")\n",
    "for r in rewards_per_thousand_episodes:\n",
    "    print(\"Iter \", count, \": \", str(sum(r/1000)))\n",
    "    count += 1000"
   ]
  },
  {
   "cell_type": "code",
   "execution_count": 54,
   "metadata": {
    "scrolled": false
   },
   "outputs": [
    {
     "data": {
      "text/html": [
       "<iframe src=\"https://wandb.ai/ieor-4575/lab1/runs/1obqvrto?jupyter=true\" style=\"border:none;width:100%;height:420px\">\n",
       "                </iframe>"
      ],
      "text/plain": [
       "<wandb.jupyter.Run at 0x1a2269c1d0>"
      ]
     },
     "metadata": {},
     "output_type": "display_data"
    }
   ],
   "source": [
    "%%wandb\n",
    "## DO NOT CHANGE THIS CELL. CHANGING ANY PART OF THIS CELL CAN DISQUALIFY THE SUBMISSION\n",
    "#Evaluation of trained policy\n",
    "init()\n",
    "num_episodes=1000; #number of episodes for evaluation\n",
    "episode_max_length=100; \n",
    "movingAverageArray=[]\n",
    "score=0\n",
    "env.reset()\n",
    "for i in range(num_episodes):\n",
    "    s = env.reset()\n",
    "    d = False #not done\n",
    "    for t in range(episode_max_length):\n",
    "        a = int(pi[s])\n",
    "        s, r, d, _ = env.step(a)\n",
    "        if d == True:\n",
    "            break\n",
    "    #log per-episode reward and moving average over 100 episodes\n",
    "    wandb.log({ \"evaluation reward\" : rEpisode, \"evaluation reward moving average\" : movingAverage, \"evaluation episode\" : i})\n",
    "    movingAverageArray.append(movingAverage)\n",
    "    #score is x if there is a window of 100 consecutive episodes where moving average was at least x\n",
    "    if i>100:\n",
    "        score=max(score,min(movingAverageArray[i-100:i-1]))\n",
    "\n",
    "wandb.run.summary[\"score\"]=score "
   ]
  },
  {
   "cell_type": "code",
   "execution_count": 55,
   "metadata": {},
   "outputs": [
    {
     "data": {
      "text/html": [
       "<br/>Waiting for W&B process to finish, PID 93780<br/>Program ended successfully."
      ],
      "text/plain": [
       "<IPython.core.display.HTML object>"
      ]
     },
     "metadata": {},
     "output_type": "display_data"
    },
    {
     "data": {
      "application/vnd.jupyter.widget-view+json": {
       "model_id": "c90a8eb884dc4306bdaedefe083762a9",
       "version_major": 2,
       "version_minor": 0
      },
      "text/plain": [
       "VBox(children=(Label(value=' 0.00MB of 0.00MB uploaded (0.00MB deduped)\\r'), FloatProgress(value=1.0, max=1.0)…"
      ]
     },
     "metadata": {},
     "output_type": "display_data"
    },
    {
     "data": {
      "text/html": [
       "Find user logs for this run at: <code>/Users/chenchenwei/Documents/IEOR4575_Labs/labs/lab1/wandb/run-20210225_203433-1obqvrto/logs/debug.log</code>"
      ],
      "text/plain": [
       "<IPython.core.display.HTML object>"
      ]
     },
     "metadata": {},
     "output_type": "display_data"
    },
    {
     "data": {
      "text/html": [
       "Find internal logs for this run at: <code>/Users/chenchenwei/Documents/IEOR4575_Labs/labs/lab1/wandb/run-20210225_203433-1obqvrto/logs/debug-internal.log</code>"
      ],
      "text/plain": [
       "<IPython.core.display.HTML object>"
      ]
     },
     "metadata": {},
     "output_type": "display_data"
    },
    {
     "data": {
      "text/html": [
       "<h3>Run summary:</h3><br/><style>\n",
       "    table.wandb td:nth-child(1) { padding: 0 10px; text-align: right }\n",
       "    </style><table class=\"wandb\">\n",
       "<tr><td>random reward</td><td>0.0</td></tr><tr><td>random reward moving average</td><td>0.0202</td></tr><tr><td>random episode</td><td>999</td></tr><tr><td>_runtime</td><td>24</td></tr><tr><td>_timestamp</td><td>1614303297</td></tr><tr><td>_step</td><td>21999</td></tr><tr><td>training reward</td><td>1.0</td></tr><tr><td>training reward moving average</td><td>0.69697</td></tr><tr><td>training episode</td><td>19999</td></tr><tr><td>number of training episodes</td><td>20000</td></tr><tr><td>evaluation reward</td><td>1.0</td></tr><tr><td>evaluation reward moving average</td><td>0.74747</td></tr><tr><td>evaluation episode</td><td>999</td></tr><tr><td>score</td><td>0.79798</td></tr></table>"
      ],
      "text/plain": [
       "<IPython.core.display.HTML object>"
      ]
     },
     "metadata": {},
     "output_type": "display_data"
    },
    {
     "data": {
      "text/html": [
       "<h3>Run history:</h3><br/><style>\n",
       "    table.wandb td:nth-child(1) { padding: 0 10px; text-align: right }\n",
       "    </style><table class=\"wandb\">\n",
       "<tr><td>random reward</td><td>▁▁▁▁▁▁▁▁▁▁▁▁▁▁▁▁▁▁▁▁▁▁▁▁▁▁▁▁▁▁▁▁▁▁▁▁▁▁▁▁</td></tr><tr><td>random reward moving average</td><td>▁▁▁▁█▆▅▃▅▅▅▅▃▃▅▅▅▆▅▅▃▃▃▁▁▁▁▁▁▁▁▃▃▅███▅▃▅</td></tr><tr><td>random episode</td><td>▁▁▁▂▂▂▂▂▂▃▃▃▃▃▄▄▄▄▄▄▅▅▅▅▅▅▆▆▆▆▆▇▇▇▇▇▇███</td></tr><tr><td>_runtime</td><td>▁▁▁▁▂▂▂▂▂▂▂▃▃▃▃▃▃▄▄▄▄▅▅▅▅▅▆▆▆▆▆▆▇▇▇▇▇███</td></tr><tr><td>_timestamp</td><td>▁▁▁▁▂▂▂▂▂▂▂▃▃▃▃▃▃▄▄▄▄▅▅▅▅▅▆▆▆▆▆▆▇▇▇▇▇███</td></tr><tr><td>_step</td><td>▁▁▁▁▂▂▂▂▂▃▃▃▃▃▃▄▄▄▄▄▅▅▅▅▅▅▆▆▆▆▆▇▇▇▇▇▇███</td></tr><tr><td>training reward</td><td>▁██████▁▁██▁█▁█████▁██▁█▁▁██▁███████▁███</td></tr><tr><td>training reward moving average</td><td>▁▃▆▇▇█▇█▅█▇█▇▇█▆▇▇▆█▆▇▇▇█▇▇█▆▇▇▇▇███▇▆▇▇</td></tr><tr><td>training episode</td><td>▁▁▁▁▂▂▂▂▂▃▃▃▃▃▃▄▄▄▄▄▅▅▅▅▅▅▆▆▆▆▆▇▇▇▇▇▇███</td></tr><tr><td>evaluation reward</td><td>▁█████▁███████▁████▁██▁████▁██▁▁█▁█▁████</td></tr><tr><td>evaluation reward moving average</td><td>▂▃▂▃▂▁▁▁▂▂▃▃▆█▇▇▆▅▆▆▆▇▆▅▅▃▂▅▆▆▃▂▂▂▂▃▃▄▅▄</td></tr><tr><td>evaluation episode</td><td>▁▁▁▂▂▂▂▂▂▃▃▃▃▃▄▄▄▄▄▄▅▅▅▅▅▅▆▆▆▆▆▇▇▇▇▇▇███</td></tr></table><br/>"
      ],
      "text/plain": [
       "<IPython.core.display.HTML object>"
      ]
     },
     "metadata": {},
     "output_type": "display_data"
    },
    {
     "data": {
      "text/html": [
       "Synced 5 W&B file(s), 0 media file(s), 0 artifact file(s) and 0 other file(s)"
      ],
      "text/plain": [
       "<IPython.core.display.HTML object>"
      ]
     },
     "metadata": {},
     "output_type": "display_data"
    },
    {
     "data": {
      "text/html": [
       "\n",
       "                    <br/>Synced <strong style=\"color:#cdcd00\">fiery-sound-3468</strong>: <a href=\"https://wandb.ai/ieor-4575/lab1/runs/1obqvrto\" target=\"_blank\">https://wandb.ai/ieor-4575/lab1/runs/1obqvrto</a><br/>\n",
       "                "
      ],
      "text/plain": [
       "<IPython.core.display.HTML object>"
      ]
     },
     "metadata": {},
     "output_type": "display_data"
    }
   ],
   "source": [
    "run.finish()"
   ]
  },
  {
   "cell_type": "markdown",
   "metadata": {},
   "source": []
  }
 ],
 "metadata": {
  "kernelspec": {
   "display_name": "ieor4575",
   "language": "python",
   "name": "ieor4575"
  },
  "language_info": {
   "codemirror_mode": {
    "name": "ipython",
    "version": 3
   },
   "file_extension": ".py",
   "mimetype": "text/x-python",
   "name": "python",
   "nbconvert_exporter": "python",
   "pygments_lexer": "ipython3",
   "version": "3.7.6"
  }
 },
 "nbformat": 4,
 "nbformat_minor": 1
}
